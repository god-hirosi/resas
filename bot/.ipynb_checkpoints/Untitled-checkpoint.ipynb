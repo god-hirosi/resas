{
 "cells": [
  {
   "cell_type": "code",
   "execution_count": null,
   "metadata": {
    "collapsed": true
   },
   "outputs": [],
   "source": [
    "# -*- coding: utf-8 -*-\n",
    "import json\n",
    "import requests\n",
    "\n",
    "#resas key \n",
    "resas_key = 'HLg5C8mn9xIk86rmvCg9T8XogMsQ5oSdPlZp5Rcz'\n",
    "\n",
    "#参照データ情報\n",
    "year = '2015' #対象年\n",
    "pref_code = '11'\n",
    "region_code = '1' #地域コード\n",
    "country_code = '103'#国コード\n",
    "purpose = '1'#目的　１：全て　２：観光\n",
    "month = '04' #訪問月\n",
    "pot = '1' #訪問時間帯　１：昼　２：夜\n",
    "\n",
    "def get_resas(key,url):\n",
    "    x = json.loads(requests.get('https://opendata.resas-portal.go.jp/' + url, headers={'X-API-KEY':key}).text)\n",
    "    #x_json = json.dumps(x, ensure_ascii=False, indent=4)\n",
    "    #groupDict = x['result']\n",
    "    #nameList = groupDict.keys()\n",
    "    #print(groupDict)\n",
    "    \n",
    "    \n",
    "    ##dict, str\n",
    "    #print(type(x))\n",
    "    #print(type(x_json))\n",
    "    \n",
    "    #print(x_json)\n",
    "    \n",
    "    print(x['message'],x['result'])\n",
    "    #return(type(x['result']['data'][0]['lat']))\n",
    "    \n",
    "if __name__ == \"__main__\" :\n",
    "    #国籍毎のよく行く目的地\n",
    "    get_resas(resas_key,'api/v1/tourism/foreigners/forTo?year='+year\n",
    "              +'&prefCode='+pref_code\n",
    "              +'&regionCode='+region_code\n",
    "              +'&countryCode='+country_code\n",
    "              +'&purpose='+purpose)\n",
    "    #目的地によく来る国籍の人\n",
    "    get_resas(resas_key,'api/v1/tourism/foreigners/forFrom?purpose='+purpose\n",
    "              +'&year='+year\n",
    "              +'&prefCode='+pref_code)\n",
    "    #季節毎の訪日外国人数\n",
    "    get_resas(resas_key,'api/v1/partner/docomo/inbound?year='+year\n",
    "              +'&month='+month\n",
    "              +'&prefCode='+pref_code\n",
    "              +'&periodOfTime='+pot)\n",
    "    #観光スポット\n",
    "    get_resas(resas_key,'api/v1/tourism/attractions?prefCode='+pref_code+'&cityCode=-')"
   ]
  },
  {
   "cell_type": "code",
   "execution_count": null,
   "metadata": {
    "collapsed": true
   },
   "outputs": [],
   "source": []
  }
 ],
 "metadata": {
  "anaconda-cloud": {},
  "kernelspec": {
   "display_name": "Python [conda root]",
   "language": "python",
   "name": "conda-root-py"
  },
  "language_info": {
   "codemirror_mode": {
    "name": "ipython",
    "version": 2
   },
   "file_extension": ".py",
   "mimetype": "text/x-python",
   "name": "python",
   "nbconvert_exporter": "python",
   "pygments_lexer": "ipython2",
   "version": "2.7.12"
  }
 },
 "nbformat": 4,
 "nbformat_minor": 1
}
