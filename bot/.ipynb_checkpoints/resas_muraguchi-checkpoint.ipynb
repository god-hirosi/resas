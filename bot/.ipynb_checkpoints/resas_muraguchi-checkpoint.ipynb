{
 "cells": [
  {
   "cell_type": "code",
   "execution_count": 1,
   "metadata": {
    "collapsed": false,
    "scrolled": false
   },
   "outputs": [],
   "source": [
    "# -*- coding: utf-8 -*-\n",
    "import json\n",
    "import requests\n",
    "import pandas as pd\n",
    "from pandas import DataFrame\n",
    "\n",
    "\n",
    "#resas key \n",
    "resas_key = 'HLg5C8mn9xIk86rmvCg9T8XogMsQ5oSdPlZp5Rcz'\n",
    "\n",
    "#参照データ情報\n",
    "year = '2015' #対象年\n",
    "quarter = '2' #対象クウォーター\n",
    "#pref_code = '11'\n",
    "region_code = '1' #地域コード\n",
    "#country_code = '103'#国コード\n",
    "purpose = '1'#目的　１：全て　２：観光\n",
    "month = '04' #訪問月\n",
    "pot = '1' #訪問時間帯　１：昼　２：夜\n"
   ]
  },
  {
   "cell_type": "code",
   "execution_count": 5,
   "metadata": {
    "collapsed": true
   },
   "outputs": [],
   "source": [
    "##############################\n",
    "## 関数作成エリア\n",
    "##############################\n",
    "\n",
    "def get_resas(key,url):\n",
    "    x = json.loads(requests.get('https://opendata.resas-portal.go.jp/' + url, headers={'X-API-KEY':key}).text)\n",
    "    #print (x['message'],x['result'])\n",
    "    #print x['result']\n",
    "    return x['result']\n",
    "    #return(type(x['result']['data'][0]['lat']))\n",
    "    \n",
    "# 国籍コードを入れると、よく行く都道府県のコードを返す\n",
    "def get_Pref_fromNation(key,url):\n",
    "    x = json.loads(requests.get('https://opendata.resas-portal.go.jp/' + url, headers={'X-API-KEY':key}).text)\n",
    "    return x['result']\n",
    "    \n",
    "# 都道府県コードを入れると、よく訪問する国籍のコードを返す\n",
    "def get_Nation_fromPref(key,url):\n",
    "    x = json.loads(requests.get('https://opendata.resas-portal.go.jp/' + url, headers={'X-API-KEY':key}).text)\n",
    "    return x['result']\n",
    "\n",
    "# 都道府県コード、月、を入れると、その月の訪日外国人人数を返す\n",
    "def get_VisitNum(key,url):\n",
    "    x = json.loads(requests.get('https://opendata.resas-portal.go.jp/' + url, headers={'X-API-KEY':key}).text)\n",
    "    return x['result']\n",
    "\n",
    "# 都道府県コードを入れると、日本人がよく行く観光スポット名を返す\n",
    "def get_Spot(key,url):\n",
    "    x = json.loads(requests.get('https://opendata.resas-portal.go.jp/' + url, headers={'X-API-KEY':key}).text)\n",
    "    return x['result']\n",
    "\n",
    "# 国籍のコード変換\n",
    "def get_nationCd(in_nation):\n",
    "    return int(countryList.loc[(countryList.countryName == in_nation), 'countryCd'])\n",
    "\n",
    "# 都道府県のコード変換\n",
    "def get_prefCd(in_pref):\n",
    "    return int(prefList.loc[(prefList.prefName == in_pref), 'prefCd'])\n",
    "\n"
   ]
  },
  {
   "cell_type": "code",
   "execution_count": 8,
   "metadata": {
    "collapsed": false
   },
   "outputs": [
    {
     "name": "stdout",
     "output_type": "stream",
     "text": [
      "国籍：大韓民国、コード：103\n",
      "1\n"
     ]
    },
    {
     "ename": "ProxyError",
     "evalue": "HTTPSConnectionPool(host='opendata.resas-portal.go.jp', port=443): Max retries exceeded with url: /api/v1/tourism/foreigners/forTo?year=2015&prefCode=1&regionCode=1&countryCode=103&purpose=1 (Caused by ProxyError('Cannot connect to proxy.', NewConnectionError('<requests.packages.urllib3.connection.VerifiedHTTPSConnection object at 0x10ca80a50>: Failed to establish a new connection: [Errno 60] Operation timed out',)))",
     "output_type": "error",
     "traceback": [
      "\u001b[0;31m---------------------------------------------------------------------------\u001b[0m",
      "\u001b[0;31mProxyError\u001b[0m                                Traceback (most recent call last)",
      "\u001b[0;32m<ipython-input-8-261312c849cb>\u001b[0m in \u001b[0;36m<module>\u001b[0;34m()\u001b[0m\n\u001b[1;32m     28\u001b[0m                 \u001b[0;34m+\u001b[0m\u001b[0;34m'&regionCode='\u001b[0m\u001b[0;34m+\u001b[0m\u001b[0mregion_code\u001b[0m\u001b[0;34m\u001b[0m\u001b[0m\n\u001b[1;32m     29\u001b[0m                 \u001b[0;34m+\u001b[0m\u001b[0;34m'&countryCode='\u001b[0m\u001b[0;34m+\u001b[0m\u001b[0mstr\u001b[0m\u001b[0;34m(\u001b[0m\u001b[0mnationCd1\u001b[0m\u001b[0;34m)\u001b[0m\u001b[0;34m\u001b[0m\u001b[0m\n\u001b[0;32m---> 30\u001b[0;31m                 +'&purpose='+purpose)\n\u001b[0m\u001b[1;32m     31\u001b[0m     \u001b[0;31m#print str(pref)\u001b[0m\u001b[0;34m\u001b[0m\u001b[0;34m\u001b[0m\u001b[0m\n\u001b[1;32m     32\u001b[0m     \u001b[0;32mif\u001b[0m \u001b[0mstr\u001b[0m\u001b[0;34m(\u001b[0m\u001b[0mpref\u001b[0m\u001b[0;34m)\u001b[0m \u001b[0;34m==\u001b[0m \u001b[0;34m'None'\u001b[0m\u001b[0;34m:\u001b[0m\u001b[0;34m\u001b[0m\u001b[0m\n",
      "\u001b[0;32m<ipython-input-5-279d195144eb>\u001b[0m in \u001b[0;36mget_Pref_fromNation\u001b[0;34m(key, url)\u001b[0m\n\u001b[1;32m     12\u001b[0m \u001b[0;31m# 国籍コードを入れると、よく行く都道府県のコードを返す\u001b[0m\u001b[0;34m\u001b[0m\u001b[0;34m\u001b[0m\u001b[0m\n\u001b[1;32m     13\u001b[0m \u001b[0;32mdef\u001b[0m \u001b[0mget_Pref_fromNation\u001b[0m\u001b[0;34m(\u001b[0m\u001b[0mkey\u001b[0m\u001b[0;34m,\u001b[0m\u001b[0murl\u001b[0m\u001b[0;34m)\u001b[0m\u001b[0;34m:\u001b[0m\u001b[0;34m\u001b[0m\u001b[0m\n\u001b[0;32m---> 14\u001b[0;31m     \u001b[0mx\u001b[0m \u001b[0;34m=\u001b[0m \u001b[0mjson\u001b[0m\u001b[0;34m.\u001b[0m\u001b[0mloads\u001b[0m\u001b[0;34m(\u001b[0m\u001b[0mrequests\u001b[0m\u001b[0;34m.\u001b[0m\u001b[0mget\u001b[0m\u001b[0;34m(\u001b[0m\u001b[0;34m'https://opendata.resas-portal.go.jp/'\u001b[0m \u001b[0;34m+\u001b[0m \u001b[0murl\u001b[0m\u001b[0;34m,\u001b[0m \u001b[0mheaders\u001b[0m\u001b[0;34m=\u001b[0m\u001b[0;34m{\u001b[0m\u001b[0;34m'X-API-KEY'\u001b[0m\u001b[0;34m:\u001b[0m\u001b[0mkey\u001b[0m\u001b[0;34m}\u001b[0m\u001b[0;34m)\u001b[0m\u001b[0;34m.\u001b[0m\u001b[0mtext\u001b[0m\u001b[0;34m)\u001b[0m\u001b[0;34m\u001b[0m\u001b[0m\n\u001b[0m\u001b[1;32m     15\u001b[0m     \u001b[0;32mreturn\u001b[0m \u001b[0mx\u001b[0m\u001b[0;34m[\u001b[0m\u001b[0;34m'result'\u001b[0m\u001b[0;34m]\u001b[0m\u001b[0;34m\u001b[0m\u001b[0m\n\u001b[1;32m     16\u001b[0m \u001b[0;34m\u001b[0m\u001b[0m\n",
      "\u001b[0;32m/Users/kimiaki/anaconda2/lib/python2.7/site-packages/requests/api.pyc\u001b[0m in \u001b[0;36mget\u001b[0;34m(url, params, **kwargs)\u001b[0m\n\u001b[1;32m     68\u001b[0m \u001b[0;34m\u001b[0m\u001b[0m\n\u001b[1;32m     69\u001b[0m     \u001b[0mkwargs\u001b[0m\u001b[0;34m.\u001b[0m\u001b[0msetdefault\u001b[0m\u001b[0;34m(\u001b[0m\u001b[0;34m'allow_redirects'\u001b[0m\u001b[0;34m,\u001b[0m \u001b[0mTrue\u001b[0m\u001b[0;34m)\u001b[0m\u001b[0;34m\u001b[0m\u001b[0m\n\u001b[0;32m---> 70\u001b[0;31m     \u001b[0;32mreturn\u001b[0m \u001b[0mrequest\u001b[0m\u001b[0;34m(\u001b[0m\u001b[0;34m'get'\u001b[0m\u001b[0;34m,\u001b[0m \u001b[0murl\u001b[0m\u001b[0;34m,\u001b[0m \u001b[0mparams\u001b[0m\u001b[0;34m=\u001b[0m\u001b[0mparams\u001b[0m\u001b[0;34m,\u001b[0m \u001b[0;34m**\u001b[0m\u001b[0mkwargs\u001b[0m\u001b[0;34m)\u001b[0m\u001b[0;34m\u001b[0m\u001b[0m\n\u001b[0m\u001b[1;32m     71\u001b[0m \u001b[0;34m\u001b[0m\u001b[0m\n\u001b[1;32m     72\u001b[0m \u001b[0;34m\u001b[0m\u001b[0m\n",
      "\u001b[0;32m/Users/kimiaki/anaconda2/lib/python2.7/site-packages/requests/api.pyc\u001b[0m in \u001b[0;36mrequest\u001b[0;34m(method, url, **kwargs)\u001b[0m\n\u001b[1;32m     54\u001b[0m     \u001b[0;31m# cases, and look like a memory leak in others.\u001b[0m\u001b[0;34m\u001b[0m\u001b[0;34m\u001b[0m\u001b[0m\n\u001b[1;32m     55\u001b[0m     \u001b[0;32mwith\u001b[0m \u001b[0msessions\u001b[0m\u001b[0;34m.\u001b[0m\u001b[0mSession\u001b[0m\u001b[0;34m(\u001b[0m\u001b[0;34m)\u001b[0m \u001b[0;32mas\u001b[0m \u001b[0msession\u001b[0m\u001b[0;34m:\u001b[0m\u001b[0;34m\u001b[0m\u001b[0m\n\u001b[0;32m---> 56\u001b[0;31m         \u001b[0;32mreturn\u001b[0m \u001b[0msession\u001b[0m\u001b[0;34m.\u001b[0m\u001b[0mrequest\u001b[0m\u001b[0;34m(\u001b[0m\u001b[0mmethod\u001b[0m\u001b[0;34m=\u001b[0m\u001b[0mmethod\u001b[0m\u001b[0;34m,\u001b[0m \u001b[0murl\u001b[0m\u001b[0;34m=\u001b[0m\u001b[0murl\u001b[0m\u001b[0;34m,\u001b[0m \u001b[0;34m**\u001b[0m\u001b[0mkwargs\u001b[0m\u001b[0;34m)\u001b[0m\u001b[0;34m\u001b[0m\u001b[0m\n\u001b[0m\u001b[1;32m     57\u001b[0m \u001b[0;34m\u001b[0m\u001b[0m\n\u001b[1;32m     58\u001b[0m \u001b[0;34m\u001b[0m\u001b[0m\n",
      "\u001b[0;32m/Users/kimiaki/anaconda2/lib/python2.7/site-packages/requests/sessions.pyc\u001b[0m in \u001b[0;36mrequest\u001b[0;34m(self, method, url, params, data, headers, cookies, files, auth, timeout, allow_redirects, proxies, hooks, stream, verify, cert, json)\u001b[0m\n\u001b[1;32m    486\u001b[0m         }\n\u001b[1;32m    487\u001b[0m         \u001b[0msend_kwargs\u001b[0m\u001b[0;34m.\u001b[0m\u001b[0mupdate\u001b[0m\u001b[0;34m(\u001b[0m\u001b[0msettings\u001b[0m\u001b[0;34m)\u001b[0m\u001b[0;34m\u001b[0m\u001b[0m\n\u001b[0;32m--> 488\u001b[0;31m         \u001b[0mresp\u001b[0m \u001b[0;34m=\u001b[0m \u001b[0mself\u001b[0m\u001b[0;34m.\u001b[0m\u001b[0msend\u001b[0m\u001b[0;34m(\u001b[0m\u001b[0mprep\u001b[0m\u001b[0;34m,\u001b[0m \u001b[0;34m**\u001b[0m\u001b[0msend_kwargs\u001b[0m\u001b[0;34m)\u001b[0m\u001b[0;34m\u001b[0m\u001b[0m\n\u001b[0m\u001b[1;32m    489\u001b[0m \u001b[0;34m\u001b[0m\u001b[0m\n\u001b[1;32m    490\u001b[0m         \u001b[0;32mreturn\u001b[0m \u001b[0mresp\u001b[0m\u001b[0;34m\u001b[0m\u001b[0m\n",
      "\u001b[0;32m/Users/kimiaki/anaconda2/lib/python2.7/site-packages/requests/sessions.pyc\u001b[0m in \u001b[0;36msend\u001b[0;34m(self, request, **kwargs)\u001b[0m\n\u001b[1;32m    607\u001b[0m \u001b[0;34m\u001b[0m\u001b[0m\n\u001b[1;32m    608\u001b[0m         \u001b[0;31m# Send the request\u001b[0m\u001b[0;34m\u001b[0m\u001b[0;34m\u001b[0m\u001b[0m\n\u001b[0;32m--> 609\u001b[0;31m         \u001b[0mr\u001b[0m \u001b[0;34m=\u001b[0m \u001b[0madapter\u001b[0m\u001b[0;34m.\u001b[0m\u001b[0msend\u001b[0m\u001b[0;34m(\u001b[0m\u001b[0mrequest\u001b[0m\u001b[0;34m,\u001b[0m \u001b[0;34m**\u001b[0m\u001b[0mkwargs\u001b[0m\u001b[0;34m)\u001b[0m\u001b[0;34m\u001b[0m\u001b[0m\n\u001b[0m\u001b[1;32m    610\u001b[0m \u001b[0;34m\u001b[0m\u001b[0m\n\u001b[1;32m    611\u001b[0m         \u001b[0;31m# Total elapsed time of the request (approximately)\u001b[0m\u001b[0;34m\u001b[0m\u001b[0;34m\u001b[0m\u001b[0m\n",
      "\u001b[0;32m/Users/kimiaki/anaconda2/lib/python2.7/site-packages/requests/adapters.pyc\u001b[0m in \u001b[0;36msend\u001b[0;34m(self, request, stream, timeout, verify, cert, proxies)\u001b[0m\n\u001b[1;32m    483\u001b[0m \u001b[0;34m\u001b[0m\u001b[0m\n\u001b[1;32m    484\u001b[0m             \u001b[0;32mif\u001b[0m \u001b[0misinstance\u001b[0m\u001b[0;34m(\u001b[0m\u001b[0me\u001b[0m\u001b[0;34m.\u001b[0m\u001b[0mreason\u001b[0m\u001b[0;34m,\u001b[0m \u001b[0m_ProxyError\u001b[0m\u001b[0;34m)\u001b[0m\u001b[0;34m:\u001b[0m\u001b[0;34m\u001b[0m\u001b[0m\n\u001b[0;32m--> 485\u001b[0;31m                 \u001b[0;32mraise\u001b[0m \u001b[0mProxyError\u001b[0m\u001b[0;34m(\u001b[0m\u001b[0me\u001b[0m\u001b[0;34m,\u001b[0m \u001b[0mrequest\u001b[0m\u001b[0;34m=\u001b[0m\u001b[0mrequest\u001b[0m\u001b[0;34m)\u001b[0m\u001b[0;34m\u001b[0m\u001b[0m\n\u001b[0m\u001b[1;32m    486\u001b[0m \u001b[0;34m\u001b[0m\u001b[0m\n\u001b[1;32m    487\u001b[0m             \u001b[0;32mraise\u001b[0m \u001b[0mConnectionError\u001b[0m\u001b[0;34m(\u001b[0m\u001b[0me\u001b[0m\u001b[0;34m,\u001b[0m \u001b[0mrequest\u001b[0m\u001b[0;34m=\u001b[0m\u001b[0mrequest\u001b[0m\u001b[0;34m)\u001b[0m\u001b[0;34m\u001b[0m\u001b[0m\n",
      "\u001b[0;31mProxyError\u001b[0m: HTTPSConnectionPool(host='opendata.resas-portal.go.jp', port=443): Max retries exceeded with url: /api/v1/tourism/foreigners/forTo?year=2015&prefCode=1&regionCode=1&countryCode=103&purpose=1 (Caused by ProxyError('Cannot connect to proxy.', NewConnectionError('<requests.packages.urllib3.connection.VerifiedHTTPSConnection object at 0x10ca80a50>: Failed to establish a new connection: [Errno 60] Operation timed out',)))"
     ]
    }
   ],
   "source": [
    "##############################\n",
    "## メイン関数\n",
    "##############################\n",
    "\n",
    "# 初期設定\n",
    "in_nation = \"大韓民国\"\n",
    "countryList = pd.read_csv(\"data/CountryList.csv\", names = ('regionCd', 'regionName', 'countryCd', 'countryName'))\n",
    "in_pref = \"京都府\"\n",
    "prefList = pd.read_csv(\"data/PrefExchangeList.csv\", names = ('prefName', 'shortName', 'prefCd'))\n",
    "\n",
    "\n",
    "### 処理１：国籍を入れると、よく行く都道府県コードを取得 ###\n",
    "#\n",
    "# 国籍をコード化\n",
    "nationCd1 = get_nationCd(in_nation)\n",
    "print \"国籍：%s、コード：%d\" %(in_nation, nationCd1)\n",
    "#\n",
    "# 国籍コードから人気の都道府県コードを2件取得：（pref1, pref2） #※アメリカ合衆国：東京都、などない場合もある。その場合は、0を返す。\n",
    "pref1 = 0\n",
    "pref2 = 0\n",
    "tmp_pref1, tmp_value1 = 0, 0\n",
    "tmp_pref2, tmp_value2 = 1, 1\n",
    "i = 1\n",
    "while i < 48:\n",
    "    print i\n",
    "    pref =  get_Pref_fromNation(resas_key,'api/v1/tourism/foreigners/forTo?year='+year\n",
    "                +'&prefCode='+str(i)   \n",
    "                +'&regionCode='+region_code\n",
    "                +'&countryCode='+str(nationCd1)\n",
    "                +'&purpose='+purpose)\n",
    "    #print str(pref)\n",
    "    if str(pref) == 'None':\n",
    "        i += 1\n",
    "        continue\n",
    "    n = 0\n",
    "    j = 0\n",
    "    while j < len(pref['changes'][0]['data']):\n",
    "        if (pref['changes'][0]['data'][j]['year'] == int(year)) and (pref['changes'][0]['data'][j]['quarter'] == int(quarter)):\n",
    "            n = int(pref['changes'][0]['data'][j]['value'])\n",
    "        j += 1        \n",
    "    if n > tmp_value2:\n",
    "        tmp_value1 = tmp_value2\n",
    "        tmp_pref1 = tmp_pref2\n",
    "        tmp_value2 = n\n",
    "        tmp_pref2 = int(pref['changes'][0]['prefCode'])\n",
    "    else:\n",
    "        if n > tmp_value1:\n",
    "            tmp_value1 = n\n",
    "            tmp_pref1 = int(pref['changes'][0]['prefCode'])\n",
    "    i += 1\n",
    "pref1, pref2 = tmp_pref1, tmp_pref2\n",
    "#\n",
    "print \"国籍：%s がよく行く都道府県コード：%d, %d\" %(in_nation, pref1, pref2)\n"
   ]
  },
  {
   "cell_type": "code",
   "execution_count": 127,
   "metadata": {
    "collapsed": false
   },
   "outputs": [
    {
     "name": "stdout",
     "output_type": "stream",
     "text": [
      "都道府県：京都府、コード：26\n",
      "都道府県：京都府 によく行く国籍：103, 105\n",
      "国籍コード：103 がよく行く都道府県コード：27, 13\\国籍コード：105 がよく行く都道府県コード：27, 13\n"
     ]
    }
   ],
   "source": [
    "### 処理2：都道府県を入れると、そこに人気ある国籍の人がよく行く都道府県コードを取得 ###\n",
    "#\n",
    "# 都道府県をコード化\n",
    "prefCd = get_prefCd(in_pref)\n",
    "print \"都道府県：%s、コード：%d\" %(in_pref, prefCd)\n",
    "#\n",
    "# 都道府県コードから人気の国籍コードを2件取得: (nation1, nation2)\n",
    "nation = get_Nation_fromPref(resas_key,'api/v1/tourism/foreigners/forFrom?purpose='+purpose\n",
    "              +'&year='+year\n",
    "              +'&prefCode='+pref_code)\n",
    "nationCd3, nationCd4 = 0, 0\n",
    "tmp_nation1, tmp_value1 = 0, 0\n",
    "tmp_nation2, tmp_value2 = 1, 1\n",
    "i = 0\n",
    "j = 0\n",
    "n = 0\n",
    "while i < len(nation['changes']):\n",
    "    while j < len(nation['changes'][i]['data']):\n",
    "        if (int(nation['changes'][i]['data'][j]['year']) == int(year)) and (int(nation['changes'][i]['data'][j]['quarter']) == int(quarter)):\n",
    "            n = nation['changes'][i]['data'][j]['value']\n",
    "            #print n\n",
    "        j += 1\n",
    "    if n > tmp_value2:\n",
    "        tmp_value1 = tmp_value2\n",
    "        tmp_nation1 = tmp_nation2\n",
    "        tmp_value2 = n\n",
    "        tmp_nation2 = int(nation['changes'][i]['countryCode'])\n",
    "    elif n > tmp_value1:\n",
    "        tmp_value1 = n\n",
    "        tmp_nation1 = int(nation['changes'][i]['countryCode'])\n",
    "    i += 1\n",
    "    j = 0\n",
    "nationCd3, nationCd4 = tmp_nation1, tmp_nation2\n",
    "print \"都道府県：%s によく行く国籍：%s, %s\" %(in_pref, str(nationCd3), str(nationCd4))\n",
    "#\n",
    "# 国籍コードからよく行く都道府県コードを取得（＝処理1）\n",
    "pref3, pref4 = 0, 0\n",
    "pref5, pref6 = 0, 0\n",
    "tmp_pref1, tmp_value1 = 0, 0\n",
    "tmp_pref2, tmp_value2 = 1, 1\n",
    "x = 0\n",
    "for nationId in (nationCd3, nationCd4):\n",
    "    i = 1\n",
    "    while i < 48:\n",
    "        pref =  get_Pref_fromNation(resas_key,'api/v1/tourism/foreigners/forTo?year='+year\n",
    "                    +'&prefCode='+str(i)   \n",
    "                    +'&regionCode='+region_code\n",
    "                    +'&countryCode='+str(nationCd)\n",
    "                    +'&purpose='+purpose)\n",
    "        #print str(pref)\n",
    "        if str(pref) == 'None':\n",
    "            i += 1\n",
    "            continue\n",
    "        n = 0\n",
    "        j = 0\n",
    "        while j < len(pref['changes'][0]['data']):\n",
    "            if (pref['changes'][0]['data'][j]['year'] == int(year)) and (pref['changes'][0]['data'][j]['quarter'] == int(quarter)):\n",
    "                n = int(pref['changes'][0]['data'][j]['value'])\n",
    "            j += 1\n",
    "        if n > tmp_value2:\n",
    "            tmp_value1 = tmp_value2\n",
    "            tmp_pref1 = tmp_pref2\n",
    "            tmp_value2 = n\n",
    "            tmp_pref2 = int(pref['changes'][0]['prefCode'])\n",
    "        else:\n",
    "            if n > tmp_value1:\n",
    "                tmp_value1 = n\n",
    "                tmp_pref1 = int(pref['changes'][0]['prefCode'])\n",
    "        i += 1    \n",
    "    if x == 0:\n",
    "        pref3, pref4 = tmp_pref1, tmp_pref2\n",
    "    elif x == 1:\n",
    "        pref5, pref6 = tmp_pref1, tmp_pref2\n",
    "    tmp_pref1, tmp_value1 = 0, 0\n",
    "    tmp_pref2, tmp_value2 = 1, 1\n",
    "    x += 1\n",
    "#\n",
    "print \"国籍コード：%s がよく行く都道府県コード：%s, %s\\国籍コード：%s がよく行く都道府県コード：%s, %s\" %(str(nationCd3), str(pref3), str(pref4), str(nationCd4), str(pref5), str(pref6))"
   ]
  },
  {
   "cell_type": "code",
   "execution_count": 11,
   "metadata": {
    "collapsed": false
   },
   "outputs": [
    {
     "data": {
      "text/plain": [
       "'https://opendata.resas-portal.go.jp/api/v1/tourism/foreigners/forTo?year=2015&prefCode=1&regionCode=1&countryCode=103&purpose=1'"
      ]
     },
     "execution_count": 11,
     "metadata": {},
     "output_type": "execute_result"
    }
   ],
   "source": [
    "url = 'api/v1/tourism/foreigners/forTo?year='+year\\\n",
    "                +'&prefCode='+str(i)   \\\n",
    "                +'&regionCode='+region_code\\\n",
    "                +'&countryCode='+str(nationCd1)\\\n",
    "                +'&purpose='+purpose\n",
    "'https://opendata.resas-portal.go.jp/' + url"
   ]
  },
  {
   "cell_type": "code",
   "execution_count": null,
   "metadata": {
    "collapsed": true
   },
   "outputs": [],
   "source": [
    "key = resas_key\n",
    "x = json.loads(requests.get('https://opendata.resas-portal.go.jp/' + url, headers={'X-API-KEY':key}).text)\n",
    "print x"
   ]
  },
  {
   "cell_type": "code",
   "execution_count": null,
   "metadata": {
    "collapsed": true
   },
   "outputs": [],
   "source": []
  }
 ],
 "metadata": {
  "anaconda-cloud": {},
  "kernelspec": {
   "display_name": "Python [default]",
   "language": "python",
   "name": "python2"
  },
  "language_info": {
   "codemirror_mode": {
    "name": "ipython",
    "version": 2
   },
   "file_extension": ".py",
   "mimetype": "text/x-python",
   "name": "python",
   "nbconvert_exporter": "python",
   "pygments_lexer": "ipython2",
   "version": "2.7.12"
  }
 },
 "nbformat": 4,
 "nbformat_minor": 1
}
